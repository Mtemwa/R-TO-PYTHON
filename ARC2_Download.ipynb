{
 "cells": [
  {
   "cell_type": "code",
   "execution_count": 21,
   "metadata": {},
   "outputs": [],
   "source": [
    "# required libraries:\n",
    "import pandas as pd\n",
    "import requests\n",
    "import gzip\n",
    "import os\n"
   ]
  },
  {
   "cell_type": "code",
   "execution_count": 22,
   "metadata": {},
   "outputs": [
    {
     "name": "stdout",
     "output_type": "stream",
     "text": [
      "done\n"
     ]
    }
   ],
   "source": [
    "# Define the sequence of dates from the start to the end date:\n",
    "dates = pd.date_range(start = \"2016-06-01\", end = \"2017-01-10\", freq = \"D\").strftime(\"%Y%m%d\")\n",
    "# Change the start and end dates to what you prefer.\n",
    "\n",
    "# The bin dates:\n",
    "bin_dates = 'daily_clim.bin.' + dates + '.gz'\n",
    "\n",
    "# URLs:\n",
    "url = \"https://ftp.cpc.ncep.noaa.gov/fews/fewsdata/africa/arc2/bin/\" + bin_dates\n",
    "\n",
    "# Destination file(s) on my computer:\n",
    "gzfiles = \"C:/Users/emman/Desktop/2nd Internship/ARC2/gzfiles/\"\n",
    "filename = gzfiles + bin_dates\n",
    "\n",
    "# data download:\n",
    "for i in range(len(bin_dates)):\n",
    "    with open(filename[i], \"wb\") as f:\n",
    "        r = requests.get(url[i])\n",
    "        f.write(r.content)\n",
    "\n",
    "print(\"done\")\n"
   ]
  },
  {
   "cell_type": "code",
   "execution_count": 24,
   "metadata": {},
   "outputs": [
    {
     "name": "stdout",
     "output_type": "stream",
     "text": [
      "done\n"
     ]
    }
   ],
   "source": [
    "# Unzip the gz files:\n",
    "for i in range(len(filename)):\n",
    "    newfile = filename[i].replace('.gz', '')\n",
    "    inpt = gzip.GzipFile(filename[i], 'rb')\n",
    "    s = inpt.read()\n",
    "    inpt.close()\n",
    "\n",
    "    output = open(newfile, 'wb')\n",
    "    output.write(s)\n",
    "    output.close()\n",
    "    \n",
    "    # Delete the old '.gz' file:\n",
    "    if os.path.exists(filename[i]):\n",
    "        os.remove(filename[i])\n",
    "    else:\n",
    "        raise Exception(\"file does not exist!\")\n",
    "\n",
    "print(\"done\")\n"
   ]
  },
  {
   "cell_type": "code",
   "execution_count": 25,
   "metadata": {},
   "outputs": [
    {
     "name": "stdout",
     "output_type": "stream",
     "text": [
      "done\n"
     ]
    }
   ],
   "source": [
    "# If any file is smaller than 2.4MB, redownload it.\n",
    "\n",
    "# All files in the current working directory:\n",
    "all_files = os.listdir()[1:]\n",
    "# we start from index 1 since index 0 is the '.ipynb_checkpoints' file which we don't need.\n",
    "\n",
    "\n",
    "\n",
    "for i in range(len(all_files)):\n",
    "    # Redownload iff the file is less than 2.4MB\n",
    "    if os.stat(all_files[i]).st_size < 2e6:\n",
    "        bin_date = all_files[i] + \".gz\"\n",
    "        \n",
    "        # URL:\n",
    "        url = \"https://ftp.cpc.ncep.noaa.gov/fews/fewsdata/africa/arc2/bin/\" + bin_date\n",
    "        \n",
    "        # Destination file(s) on my computer:\n",
    "        gzfile = \"C:/Users/emman/Desktop/2nd Internship/ARC2/gzfiles/\"\n",
    "        filename = gzfile + bin_date\n",
    "        \n",
    "        # data download:\n",
    "        for i in range(len(bin_date)):\n",
    "            with open(filename[i], \"wb\") as f:\n",
    "                r = requests.get(url[i])\n",
    "                f.write(r.content)\n",
    "\n",
    "        # Unzip the gz files:\n",
    "        for i in range(len(filename)):\n",
    "            newfile = filename[i].replace('.gz', '')\n",
    "            inpt = gzip.GzipFile(filename[i], 'rb')\n",
    "            s = inpt.read()\n",
    "            inpt.close()\n",
    "\n",
    "            output = open(newfile, 'wb')\n",
    "            output.write(s)\n",
    "            output.close()\n",
    "    \n",
    "            # Delete the old '.gz' file:\n",
    "            if os.path.exists(filename[i]):\n",
    "                os.remove(filename[i])\n",
    "            else:\n",
    "                raise Exception(\"file does not exist!\")\n",
    "\n",
    "\n",
    "print(\"done\")\n"
   ]
  },
  {
   "cell_type": "code",
   "execution_count": null,
   "metadata": {},
   "outputs": [],
   "source": []
  }
 ],
 "metadata": {
  "kernelspec": {
   "display_name": "Python 3",
   "language": "python",
   "name": "python3"
  },
  "language_info": {
   "codemirror_mode": {
    "name": "ipython",
    "version": 3
   },
   "file_extension": ".py",
   "mimetype": "text/x-python",
   "name": "python",
   "nbconvert_exporter": "python",
   "pygments_lexer": "ipython3",
   "version": "3.8.8"
  }
 },
 "nbformat": 4,
 "nbformat_minor": 4
}
