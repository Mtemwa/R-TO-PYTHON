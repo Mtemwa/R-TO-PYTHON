{
 "cells": [
  {
   "cell_type": "code",
   "execution_count": 1,
   "metadata": {},
   "outputs": [],
   "source": [
    "import pandas as pd\n",
    "import os\n",
    "import numpy as np\n",
    "import csv\n",
    "from scipy import spatial"
   ]
  },
  {
   "cell_type": "code",
   "execution_count": 2,
   "metadata": {},
   "outputs": [
    {
     "data": {
      "text/html": [
       "<div>\n",
       "<style scoped>\n",
       "    .dataframe tbody tr th:only-of-type {\n",
       "        vertical-align: middle;\n",
       "    }\n",
       "\n",
       "    .dataframe tbody tr th {\n",
       "        vertical-align: top;\n",
       "    }\n",
       "\n",
       "    .dataframe thead th {\n",
       "        text-align: right;\n",
       "    }\n",
       "</style>\n",
       "<table border=\"1\" class=\"dataframe\">\n",
       "  <thead>\n",
       "    <tr style=\"text-align: right;\">\n",
       "      <th></th>\n",
       "      <th>Unnamed: 0</th>\n",
       "      <th>PixelID</th>\n",
       "      <th>Latitude</th>\n",
       "      <th>Longitude</th>\n",
       "      <th>PixelNames</th>\n",
       "    </tr>\n",
       "  </thead>\n",
       "  <tbody>\n",
       "    <tr>\n",
       "      <th>0</th>\n",
       "      <td>-40.0,-20.0</td>\n",
       "      <td>-40.0,-20.0</td>\n",
       "      <td>-40.0</td>\n",
       "      <td>-20.0</td>\n",
       "      <td>Pixel001001</td>\n",
       "    </tr>\n",
       "    <tr>\n",
       "      <th>1</th>\n",
       "      <td>-40.0,-19.9</td>\n",
       "      <td>-40.0,-19.9</td>\n",
       "      <td>-40.0</td>\n",
       "      <td>-19.9</td>\n",
       "      <td>Pixel001002</td>\n",
       "    </tr>\n",
       "    <tr>\n",
       "      <th>2</th>\n",
       "      <td>-40.0,-19.8</td>\n",
       "      <td>-40.0,-19.8</td>\n",
       "      <td>-40.0</td>\n",
       "      <td>-19.8</td>\n",
       "      <td>Pixel001003</td>\n",
       "    </tr>\n",
       "    <tr>\n",
       "      <th>3</th>\n",
       "      <td>-40.0,-19.7</td>\n",
       "      <td>-40.0,-19.7</td>\n",
       "      <td>-40.0</td>\n",
       "      <td>-19.7</td>\n",
       "      <td>Pixel001004</td>\n",
       "    </tr>\n",
       "    <tr>\n",
       "      <th>4</th>\n",
       "      <td>-40.0,-19.6</td>\n",
       "      <td>-40.0,-19.6</td>\n",
       "      <td>-40.0</td>\n",
       "      <td>-19.6</td>\n",
       "      <td>Pixel001005</td>\n",
       "    </tr>\n",
       "  </tbody>\n",
       "</table>\n",
       "</div>"
      ],
      "text/plain": [
       "    Unnamed: 0      PixelID  Latitude  Longitude   PixelNames\n",
       "0  -40.0,-20.0  -40.0,-20.0     -40.0      -20.0  Pixel001001\n",
       "1  -40.0,-19.9  -40.0,-19.9     -40.0      -19.9  Pixel001002\n",
       "2  -40.0,-19.8  -40.0,-19.8     -40.0      -19.8  Pixel001003\n",
       "3  -40.0,-19.7  -40.0,-19.7     -40.0      -19.7  Pixel001004\n",
       "4  -40.0,-19.6  -40.0,-19.6     -40.0      -19.6  Pixel001005"
      ]
     },
     "execution_count": 2,
     "metadata": {},
     "output_type": "execute_result"
    }
   ],
   "source": [
    "#Change the working directory\n",
    "os.chdir(\"C:/Users/emman/Desktop/2nd Internship/Project 1/GPS Allocation\")\n",
    "\n",
    "#load grid\n",
    "grid = pd.read_csv('C:/Users/emman/Desktop/2nd Internship/Project 1/grid.csv')\n",
    "grid.head()"
   ]
  },
  {
   "cell_type": "code",
   "execution_count": 4,
   "metadata": {},
   "outputs": [
    {
     "data": {
      "text/plain": [
       "0   -40.0\n",
       "1   -40.0\n",
       "2   -40.0\n",
       "3   -40.0\n",
       "4   -40.0\n",
       "Name: Latitude, dtype: float64"
      ]
     },
     "execution_count": 4,
     "metadata": {},
     "output_type": "execute_result"
    }
   ],
   "source": [
    "#Convert type of latitude column to float\n",
    "grid[\"Latitude\"] = grid[\"Latitude\"].apply(str)\n",
    "grid[\"Latitude\"] = grid[\"Latitude\"].apply(float)\n",
    "grid[\"Latitude\"].head()"
   ]
  },
  {
   "cell_type": "code",
   "execution_count": 5,
   "metadata": {},
   "outputs": [],
   "source": [
    "#Convert type of longitude column to float\n",
    "grid[\"Longitude\"] = grid[\"Longitude\"].apply(str)\n",
    "grid[\"Longitude\"] = grid[\"Longitude\"].apply(float)"
   ]
  },
  {
   "cell_type": "code",
   "execution_count": 6,
   "metadata": {},
   "outputs": [],
   "source": [
    "#Convert type of pixelnames column to string\n",
    "grid[\"PixelNames\"] = grid[\"PixelNames\"].apply(str)"
   ]
  },
  {
   "cell_type": "code",
   "execution_count": 7,
   "metadata": {},
   "outputs": [],
   "source": [
    "#Load file with farmers' geographical locations\n",
    "sites = pd.read_csv('C:/Users/asus/OneDrive/Documents/SFSA/2021 Internship/GPS Allocation/AllGPS.csv')"
   ]
  },
  {
   "cell_type": "code",
   "execution_count": 8,
   "metadata": {},
   "outputs": [],
   "source": [
    "#Create an empty dataframe that will be filled with the data\n",
    "dataout = pd.DataFrame(columns=[\"Latitude\",\"Longitude\",\"PixelID\",\"PixelNames\",\"PixLat\",\"PixLon\"])"
   ]
  },
  {
   "cell_type": "code",
   "execution_count": 9,
   "metadata": {},
   "outputs": [
    {
     "data": {
      "text/html": [
       "<div>\n",
       "<style scoped>\n",
       "    .dataframe tbody tr th:only-of-type {\n",
       "        vertical-align: middle;\n",
       "    }\n",
       "\n",
       "    .dataframe tbody tr th {\n",
       "        vertical-align: top;\n",
       "    }\n",
       "\n",
       "    .dataframe thead th {\n",
       "        text-align: right;\n",
       "    }\n",
       "</style>\n",
       "<table border=\"1\" class=\"dataframe\">\n",
       "  <thead>\n",
       "    <tr style=\"text-align: right;\">\n",
       "      <th></th>\n",
       "      <th>Latitude</th>\n",
       "      <th>Longitude</th>\n",
       "      <th>PixelID</th>\n",
       "      <th>PixelNames</th>\n",
       "      <th>PixLat</th>\n",
       "      <th>PixLon</th>\n",
       "    </tr>\n",
       "  </thead>\n",
       "  <tbody>\n",
       "    <tr>\n",
       "      <th>0</th>\n",
       "      <td>2.20655675166175</td>\n",
       "      <td>34.9493871442974</td>\n",
       "      <td>2.2,34.9</td>\n",
       "      <td>Pixel423550</td>\n",
       "      <td>2.2</td>\n",
       "      <td>34.9</td>\n",
       "    </tr>\n",
       "    <tr>\n",
       "      <th>1</th>\n",
       "      <td>-36.4993164440684</td>\n",
       "      <td>54.025548174977295</td>\n",
       "      <td>-36.5,54.0</td>\n",
       "      <td>Pixel036741</td>\n",
       "      <td>-36.5</td>\n",
       "      <td>54.0</td>\n",
       "    </tr>\n",
       "    <tr>\n",
       "      <th>2</th>\n",
       "      <td>-36.0971015296909</td>\n",
       "      <td>46.003695186227596</td>\n",
       "      <td>-36.1,46.0</td>\n",
       "      <td>Pixel040661</td>\n",
       "      <td>-36.1</td>\n",
       "      <td>46.0</td>\n",
       "    </tr>\n",
       "    <tr>\n",
       "      <th>3</th>\n",
       "      <td>-16.4810373038873</td>\n",
       "      <td>4.33825800195336</td>\n",
       "      <td>-16.5,4.3</td>\n",
       "      <td>Pixel236244</td>\n",
       "      <td>-16.5</td>\n",
       "      <td>4.3</td>\n",
       "    </tr>\n",
       "    <tr>\n",
       "      <th>4</th>\n",
       "      <td>-36.344223761413396</td>\n",
       "      <td>-8.23051460087299</td>\n",
       "      <td>-36.3,-8.2</td>\n",
       "      <td>Pixel038119</td>\n",
       "      <td>-36.3</td>\n",
       "      <td>-8.2</td>\n",
       "    </tr>\n",
       "  </tbody>\n",
       "</table>\n",
       "</div>"
      ],
      "text/plain": [
       "              Latitude           Longitude     PixelID   PixelNames PixLat  \\\n",
       "0     2.20655675166175    34.9493871442974    2.2,34.9  Pixel423550    2.2   \n",
       "1    -36.4993164440684  54.025548174977295  -36.5,54.0  Pixel036741  -36.5   \n",
       "2    -36.0971015296909  46.003695186227596  -36.1,46.0  Pixel040661  -36.1   \n",
       "3    -16.4810373038873    4.33825800195336   -16.5,4.3  Pixel236244  -16.5   \n",
       "4  -36.344223761413396   -8.23051460087299  -36.3,-8.2  Pixel038119  -36.3   \n",
       "\n",
       "  PixLon  \n",
       "0   34.9  \n",
       "1   54.0  \n",
       "2   46.0  \n",
       "3    4.3  \n",
       "4   -8.2  "
      ]
     },
     "execution_count": 9,
     "metadata": {},
     "output_type": "execute_result"
    }
   ],
   "source": [
    "#Create a search tree, find the index of the closest coordinates to the farmers position and match with the appropriate pixel\n",
    "the_grid = grid[['Latitude', 'Longitude']].to_numpy()\n",
    "pixelpoints = spatial.KDTree(the_grid)\n",
    "distance, index = pixelpoints.query(sites.loc[:, [\"Latitude\", \"Longitude\"]], k=1)\n",
    "for i in range(0, len(index)):\n",
    "    dataout.loc[i] = [str(sites.loc[i, [\"Latitude\"]].values)[1:-1], str(sites.loc[i, [\"Longitude\"]].values)[1:-1], str(grid.loc[index[i], [\"PixelID\"]].values)[2:-2], str(grid.loc[index[i], [\"PixelNames\"]].values)[2:-2], str(grid.loc[index[i], [\"Latitude\"]].values)[1:-1], str(grid.loc[index[i], [\"Longitude\"]].values)[1:-1]]\n",
    "    \n",
    "dataout.head()"
   ]
  },
  {
   "cell_type": "code",
   "execution_count": 10,
   "metadata": {},
   "outputs": [],
   "source": [
    "#Rename the rows\n",
    "Dataout = dataout.rename(index= lambda x: 'Farmer' + str(x+1))"
   ]
  },
  {
   "cell_type": "code",
   "execution_count": 11,
   "metadata": {},
   "outputs": [],
   "source": [
    "#Save the dataframe as a csv file\n",
    "Dataout.to_csv('BasisRiskAllocation(Method2-Andra).csv')"
   ]
  },
  {
   "cell_type": "code",
   "execution_count": null,
   "metadata": {},
   "outputs": [],
   "source": []
  }
 ],
 "metadata": {
  "kernelspec": {
   "display_name": "Python 3",
   "language": "python",
   "name": "python3"
  },
  "language_info": {
   "codemirror_mode": {
    "name": "ipython",
    "version": 3
   },
   "file_extension": ".py",
   "mimetype": "text/x-python",
   "name": "python",
   "nbconvert_exporter": "python",
   "pygments_lexer": "ipython3",
   "version": "3.8.8"
  }
 },
 "nbformat": 4,
 "nbformat_minor": 4
}
