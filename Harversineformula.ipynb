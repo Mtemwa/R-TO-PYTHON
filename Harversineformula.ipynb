{
 "cells": [
  {
   "cell_type": "code",
   "execution_count": 1,
   "id": "45028d55",
   "metadata": {},
   "outputs": [],
   "source": [
    "#load required packages\n",
    "import pandas as pd\n",
    "import os\n",
    "import numpy as np\n",
    "import csv\n",
    "from scipy import spatial"
   ]
  },
  {
   "cell_type": "code",
   "execution_count": 2,
   "id": "6ea8bf5a",
   "metadata": {},
   "outputs": [],
   "source": [
    "#Change the working directory\n",
    "os.chdir(\"C:/Users/emman/Desktop/2nd Internship/Station Allocation/\")"
   ]
  },
  {
   "cell_type": "code",
   "execution_count": 3,
   "id": "bb8463ac",
   "metadata": {},
   "outputs": [],
   "source": [
    "#read in the required data\n",
    "farmers = pd.read_csv('Farmers.csv')\n",
    "stations = pd.read_csv('RG GPS.csv')"
   ]
  },
  {
   "cell_type": "code",
   "execution_count": 10,
   "id": "ec80fc65",
   "metadata": {},
   "outputs": [],
   "source": [
    "#Create an empty dataframe\n",
    "station_allocation = pd.DataFrame(columns=[\"Distance\", \"Closest\"])"
   ]
  },
  {
   "cell_type": "code",
   "execution_count": 11,
   "id": "36ad18ac",
   "metadata": {},
   "outputs": [],
   "source": [
    "#Create a search tree, find the index of the closest station coordinates to the farmers position and match with the appropriate station\n",
    "the_stations = stations[['Latitude', 'Longitude']].to_numpy()\n",
    "stationpoints = spatial.KDTree(the_stations)\n",
    "distance, index = stationpoints.query(farmers.loc[:, [\"Latitude\", \"Longitude\"]], k=1)\n",
    "station = stations[[\"Name\"]]\n",
    "for i in range(len(index)):\n",
    "    station_allocation.loc[i] = [distance[i], str(station.loc[index[i]].values)[2:-2]]"
   ]
  },
  {
   "cell_type": "code",
   "execution_count": 13,
   "id": "94828a6c",
   "metadata": {},
   "outputs": [],
   "source": [
    "#rename index\n",
    "station_allocation.index = farmers[\"Farmer\"]"
   ]
  },
  {
   "cell_type": "code",
   "execution_count": 14,
   "id": "8ad13df5",
   "metadata": {},
   "outputs": [],
   "source": [
    "#save the file\n",
    "station_allocation.to_csv(\"Station_Allocated_ST.csv\")"
   ]
  }
 ],
 "metadata": {
  "kernelspec": {
   "display_name": "Python 3",
   "language": "python",
   "name": "python3"
  },
  "language_info": {
   "codemirror_mode": {
    "name": "ipython",
    "version": 3
   },
   "file_extension": ".py",
   "mimetype": "text/x-python",
   "name": "python",
   "nbconvert_exporter": "python",
   "pygments_lexer": "ipython3",
   "version": "3.8.8"
  }
 },
 "nbformat": 4,
 "nbformat_minor": 5
}
